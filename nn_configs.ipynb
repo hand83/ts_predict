{
 "cells": [
  {
   "cell_type": "code",
   "execution_count": 1,
   "metadata": {},
   "outputs": [],
   "source": [
    "%run ts_lib"
   ]
  },
  {
   "cell_type": "markdown",
   "metadata": {},
   "source": [
    "### >>> NN params <<<"
   ]
  },
  {
   "cell_type": "code",
   "execution_count": 30,
   "metadata": {},
   "outputs": [
    {
     "data": {
      "text/plain": [
       "54"
      ]
     },
     "execution_count": 30,
     "metadata": {},
     "output_type": "execute_result"
    }
   ],
   "source": [
    "param_items = {'hidden_units': [15, 20, 25],\n",
    "               'hidden_dropout': [0.05, 0.1, 0.15],\n",
    "               'hidden_l2': [40.0, 400.0, 700.0],\n",
    "               'output_l2': [0.0, 10.0]}\n",
    "param_list = generate_param_list(param_items)\n",
    "len(param_list)"
   ]
  },
  {
   "cell_type": "code",
   "execution_count": 31,
   "metadata": {},
   "outputs": [],
   "source": [
    "pd.DataFrame(param_list).to_csv('hyperparameters/nn_1.csv', index=False)\n",
    "# 30\n",
    "# 100\n",
    "# 250"
   ]
  },
  {
   "cell_type": "code",
   "execution_count": 37,
   "metadata": {},
   "outputs": [
    {
     "data": {
      "text/plain": [
       "24"
      ]
     },
     "execution_count": 37,
     "metadata": {},
     "output_type": "execute_result"
    }
   ],
   "source": [
    "param_items = {'hidden_units': [10, 15],\n",
    "               'hidden_dropout': [0.1],\n",
    "               'hidden_l2': [20.0, 40.0, 100.0, 200.0],\n",
    "               'output_l2': [10.0, 50.0, 100.0]}\n",
    "param_list = generate_param_list(param_items)\n",
    "len(param_list)"
   ]
  },
  {
   "cell_type": "code",
   "execution_count": 38,
   "metadata": {},
   "outputs": [],
   "source": [
    "pd.DataFrame(param_list).to_csv('hyperparameters/nn_2.csv', index=False)\n",
    "# 30"
   ]
  },
  {
   "cell_type": "code",
   "execution_count": 47,
   "metadata": {},
   "outputs": [
    {
     "data": {
      "text/plain": [
       "16"
      ]
     },
     "execution_count": 47,
     "metadata": {},
     "output_type": "execute_result"
    }
   ],
   "source": [
    "param_items = {'hidden_units': [15],\n",
    "               'hidden_dropout': [0.1],\n",
    "               'hidden_l2': [35.0, 40.0, 50.0, 60.0],\n",
    "               'output_l2': [5.0, 7.0, 10.0, 20.0]}\n",
    "param_list = generate_param_list(param_items)\n",
    "len(param_list)"
   ]
  },
  {
   "cell_type": "code",
   "execution_count": 48,
   "metadata": {},
   "outputs": [],
   "source": [
    "pd.DataFrame(param_list).to_csv('hyperparameters/nn_3.csv', index=False)\n",
    "# 30"
   ]
  },
  {
   "cell_type": "code",
   "execution_count": 49,
   "metadata": {},
   "outputs": [
    {
     "data": {
      "text/plain": [
       "12"
      ]
     },
     "execution_count": 49,
     "metadata": {},
     "output_type": "execute_result"
    }
   ],
   "source": [
    "param_items = {'hidden_units': [15],\n",
    "               'hidden_dropout': [0.1],\n",
    "               'hidden_l2': [25.0, 30.0, 35.0],\n",
    "               'output_l2': [20.0, 25.0, 30.0, 35.0]}\n",
    "param_list = generate_param_list(param_items)\n",
    "len(param_list)"
   ]
  },
  {
   "cell_type": "code",
   "execution_count": 50,
   "metadata": {},
   "outputs": [],
   "source": [
    "pd.DataFrame(param_list).to_csv('hyperparameters/nn_4.csv', index=False)\n",
    "# 30"
   ]
  },
  {
   "cell_type": "code",
   "execution_count": 57,
   "metadata": {},
   "outputs": [
    {
     "data": {
      "text/plain": [
       "24"
      ]
     },
     "execution_count": 57,
     "metadata": {},
     "output_type": "execute_result"
    }
   ],
   "source": [
    "param_items = {'hidden_units': [15],\n",
    "               'hidden_dropout': [0.1],\n",
    "               'hidden_l2': [35.0, 40.0, 45.0],\n",
    "               'output_l2': [20.0, 15.0],\n",
    "               'loss': [0.0, 0.5, 1.0, 2.0]}\n",
    "param_list = generate_param_list(param_items)\n",
    "len(param_list)"
   ]
  },
  {
   "cell_type": "code",
   "execution_count": 58,
   "metadata": {},
   "outputs": [],
   "source": [
    "pd.DataFrame(param_list).to_csv('hyperparameters/nn_5.csv', index=False)\n",
    "# 30"
   ]
  },
  {
   "cell_type": "code",
   "execution_count": 61,
   "metadata": {},
   "outputs": [
    {
     "data": {
      "text/plain": [
       "6"
      ]
     },
     "execution_count": 61,
     "metadata": {},
     "output_type": "execute_result"
    }
   ],
   "source": [
    "param_items = {'hidden_units': [15],\n",
    "               'hidden_dropout': [0.1],\n",
    "               'hidden_l2': [45.0, 50.0],\n",
    "               'output_l2': [20.0],\n",
    "               'loss': [0.0, 0.2, 0.5]}\n",
    "param_list = generate_param_list(param_items)\n",
    "len(param_list)"
   ]
  },
  {
   "cell_type": "code",
   "execution_count": 62,
   "metadata": {},
   "outputs": [],
   "source": [
    "pd.DataFrame(param_list).to_csv('hyperparameters/nn_6.csv', index=False)\n",
    "# 30\n",
    "# 100"
   ]
  },
  {
   "cell_type": "code",
   "execution_count": 66,
   "metadata": {},
   "outputs": [
    {
     "data": {
      "text/plain": [
       "36"
      ]
     },
     "execution_count": 66,
     "metadata": {},
     "output_type": "execute_result"
    }
   ],
   "source": [
    "param_items = {'hidden_units': [20],\n",
    "               'hidden_dropout': [0.15, 0.2],\n",
    "               'hidden_l2': [400.0, 200.0, 100.0],\n",
    "               'output_l2': [10.0, 100.0],\n",
    "               'loss': [0.0, 0.2, 0.5]}\n",
    "param_list = generate_param_list(param_items)\n",
    "len(param_list)"
   ]
  },
  {
   "cell_type": "code",
   "execution_count": 67,
   "metadata": {},
   "outputs": [],
   "source": [
    "pd.DataFrame(param_list).to_csv('hyperparameters/nn_7.csv', index=False)\n",
    "# 100"
   ]
  },
  {
   "cell_type": "code",
   "execution_count": 77,
   "metadata": {},
   "outputs": [
    {
     "data": {
      "text/plain": [
       "36"
      ]
     },
     "execution_count": 77,
     "metadata": {},
     "output_type": "execute_result"
    }
   ],
   "source": [
    "param_items = {'hidden_units': [20],\n",
    "               'hidden_dropout': [0.2, 0.3, 0.4],\n",
    "               'hidden_l2': [400.0, 500.0, 600],\n",
    "               'output_l2': [0.0, 10.0, 100.0, 300.0]}\n",
    "param_list = generate_param_list(param_items)\n",
    "len(param_list)"
   ]
  },
  {
   "cell_type": "code",
   "execution_count": 78,
   "metadata": {},
   "outputs": [],
   "source": [
    "pd.DataFrame(param_list).to_csv('hyperparameters/nn_8.csv', index=False)\n",
    "# 100"
   ]
  },
  {
   "cell_type": "code",
   "execution_count": 84,
   "metadata": {},
   "outputs": [
    {
     "data": {
      "text/plain": [
       "9"
      ]
     },
     "execution_count": 84,
     "metadata": {},
     "output_type": "execute_result"
    }
   ],
   "source": [
    "param_items = {'hidden_units': [20],\n",
    "               'hidden_dropout': [0.2],\n",
    "               'hidden_l2': [450.0, 500.0, 550.0],\n",
    "               'output_l2': [10.0, 20.0, 40.0]}\n",
    "param_list = generate_param_list(param_items)\n",
    "len(param_list)"
   ]
  },
  {
   "cell_type": "code",
   "execution_count": 85,
   "metadata": {},
   "outputs": [],
   "source": [
    "pd.DataFrame(param_list).to_csv('hyperparameters/nn_9.csv', index=False)\n",
    "# 100"
   ]
  },
  {
   "cell_type": "code",
   "execution_count": 99,
   "metadata": {},
   "outputs": [
    {
     "data": {
      "text/plain": [
       "96"
      ]
     },
     "execution_count": 99,
     "metadata": {},
     "output_type": "execute_result"
    }
   ],
   "source": [
    "param_items = {'hidden_units': [20],\n",
    "               'hidden_dropout': [0.0, 0.15, 0.2, 0.3],\n",
    "               'hidden_l2': [700.0, 800.0, 900.0],\n",
    "               'output_dropout': [0.0, 0.1],\n",
    "               'output_l2': [10.0, 50.0, 100.0, 300.0]}\n",
    "param_list = generate_param_list(param_items)\n",
    "len(param_list)"
   ]
  },
  {
   "cell_type": "code",
   "execution_count": 100,
   "metadata": {},
   "outputs": [],
   "source": [
    "pd.DataFrame(param_list).to_csv('hyperparameters/nn_10.csv', index=False)\n",
    "# 250"
   ]
  },
  {
   "cell_type": "code",
   "execution_count": 111,
   "metadata": {},
   "outputs": [
    {
     "data": {
      "text/plain": [
       "6"
      ]
     },
     "execution_count": 111,
     "metadata": {},
     "output_type": "execute_result"
    }
   ],
   "source": [
    "param_items = {'hidden_units': [20],\n",
    "               'hidden_dropout': [0.0],\n",
    "               'hidden_l2': [800.0],\n",
    "               'output_dropout': [0.0],\n",
    "               'output_l2': [300.0, 400.0, 500.0, 600.0, 700.0, 800.0]}\n",
    "param_list = generate_param_list(param_items)\n",
    "len(param_list)"
   ]
  },
  {
   "cell_type": "code",
   "execution_count": 112,
   "metadata": {},
   "outputs": [],
   "source": [
    "pd.DataFrame(param_list).to_csv('hyperparameters/nn_11.csv', index=False)\n",
    "# 250"
   ]
  },
  {
   "cell_type": "code",
   "execution_count": 125,
   "metadata": {},
   "outputs": [
    {
     "data": {
      "text/plain": [
       "6"
      ]
     },
     "execution_count": 125,
     "metadata": {},
     "output_type": "execute_result"
    }
   ],
   "source": [
    "param_items = {'hidden_units': [20],\n",
    "               'hidden_l2': [800.0],\n",
    "               'output_l2': [300.0],\n",
    "               'loss': [0.0, 0.1, 0.5, 1.0, 2.0, 5.0]}\n",
    "param_list = generate_param_list(param_items)\n",
    "len(param_list)"
   ]
  },
  {
   "cell_type": "code",
   "execution_count": 126,
   "metadata": {},
   "outputs": [],
   "source": [
    "pd.DataFrame(param_list).to_csv('hyperparameters/nn_12.csv', index=False)\n",
    "# 250"
   ]
  },
  {
   "cell_type": "code",
   "execution_count": 130,
   "metadata": {},
   "outputs": [
    {
     "data": {
      "text/plain": [
       "48"
      ]
     },
     "execution_count": 130,
     "metadata": {},
     "output_type": "execute_result"
    }
   ],
   "source": [
    "param_items = {'hidden_units': [20, 40, 80, 120],\n",
    "               'hidden_l2': [10.0],\n",
    "               'output_l2': [10.0],\n",
    "               'hidden_dropout': [0.0, 0.2],\n",
    "               'loss': [0.0, 0.1, 0.5, 1.0, 2.0, 5.0]}\n",
    "param_list = generate_param_list(param_items)\n",
    "len(param_list)"
   ]
  },
  {
   "cell_type": "code",
   "execution_count": 131,
   "metadata": {},
   "outputs": [],
   "source": [
    "pd.DataFrame(param_list).to_csv('hyperparameters/nn_13.csv', index=False)\n",
    "# 250"
   ]
  },
  {
   "cell_type": "markdown",
   "metadata": {},
   "source": [
    "### >>> CNN params <<<"
   ]
  },
  {
   "cell_type": "code",
   "execution_count": 33,
   "metadata": {},
   "outputs": [
    {
     "data": {
      "text/plain": [
       "36"
      ]
     },
     "execution_count": 33,
     "metadata": {},
     "output_type": "execute_result"
    }
   ],
   "source": [
    "param_items = {'filters': [8, 10, 12],\n",
    "               'kernel_size': [3],\n",
    "               'pool_size': [2, 4, 7],\n",
    "               'conv_l2': [200.0],\n",
    "               'conv_dropout': [0.4, 0.6],\n",
    "               'output_l2': [700.0],\n",
    "               'output_dropout': [0.1, 0.2]}\n",
    "param_list = generate_param_list(param_items)\n",
    "len(param_list)"
   ]
  },
  {
   "cell_type": "code",
   "execution_count": 34,
   "metadata": {},
   "outputs": [],
   "source": [
    "pd.DataFrame(param_list).to_csv('hyperparameters/cnn_1.csv', index=False)\n",
    "# 30\n",
    "# 100"
   ]
  },
  {
   "cell_type": "code",
   "execution_count": 39,
   "metadata": {},
   "outputs": [
    {
     "data": {
      "text/plain": [
       "36"
      ]
     },
     "execution_count": 39,
     "metadata": {},
     "output_type": "execute_result"
    }
   ],
   "source": [
    "param_items = {'filters': [8, 4],\n",
    "               'kernel_size': [3],\n",
    "               'pool_size': [7],\n",
    "               'conv_l2': [150.0, 200.0, 250.0],\n",
    "               'conv_dropout': [0.6, 0.5],\n",
    "               'output_l2': [650.0, 700.0, 750.0],\n",
    "               'output_dropout': [0.2]}\n",
    "param_list = generate_param_list(param_items)\n",
    "len(param_list)"
   ]
  },
  {
   "cell_type": "code",
   "execution_count": 40,
   "metadata": {},
   "outputs": [],
   "source": [
    "pd.DataFrame(param_list).to_csv('hyperparameters/cnn_2.csv', index=False)\n",
    "# 30"
   ]
  },
  {
   "cell_type": "code",
   "execution_count": 53,
   "metadata": {},
   "outputs": [
    {
     "data": {
      "text/plain": [
       "20"
      ]
     },
     "execution_count": 53,
     "metadata": {},
     "output_type": "execute_result"
    }
   ],
   "source": [
    "param_items = {'filters': [4],\n",
    "               'kernel_size': [3],\n",
    "               'pool_size': [7],\n",
    "               'conv_l2': [50.0, 250.0, 300.0, 350.0, 600.0],\n",
    "               'conv_dropout': [0.5],\n",
    "               'output_l2': [80.0, 750.0, 800.0, 1000.0],\n",
    "               'output_dropout': [0.2]}\n",
    "param_list = generate_param_list(param_items)\n",
    "len(param_list)"
   ]
  },
  {
   "cell_type": "code",
   "execution_count": 54,
   "metadata": {},
   "outputs": [],
   "source": [
    "pd.DataFrame(param_list).to_csv('hyperparameters/cnn_3.csv', index=False)\n",
    "# 30"
   ]
  },
  {
   "cell_type": "code",
   "execution_count": 73,
   "metadata": {},
   "outputs": [
    {
     "data": {
      "text/plain": [
       "32"
      ]
     },
     "execution_count": 73,
     "metadata": {},
     "output_type": "execute_result"
    }
   ],
   "source": [
    "param_items = {'filters': [12, 24],\n",
    "               'kernel_size': [3],\n",
    "               'pool_size': [7, 20],\n",
    "               'conv_l2': [200.0, 600.0],\n",
    "               'conv_dropout': [0.5],\n",
    "               'output_l2': [700.0],\n",
    "               'output_dropout': [0.0, 0.1],\n",
    "               'loss': [0.0, 0.5]}\n",
    "param_list = generate_param_list(param_items)\n",
    "len(param_list)"
   ]
  },
  {
   "cell_type": "code",
   "execution_count": 74,
   "metadata": {},
   "outputs": [],
   "source": [
    "pd.DataFrame(param_list).to_csv('hyperparameters/cnn_4.csv', index=False)\n",
    "# 100"
   ]
  },
  {
   "cell_type": "code",
   "execution_count": 90,
   "metadata": {},
   "outputs": [
    {
     "data": {
      "text/plain": [
       "36"
      ]
     },
     "execution_count": 90,
     "metadata": {},
     "output_type": "execute_result"
    }
   ],
   "source": [
    "param_items = {'filters': [12, 15, 20],\n",
    "               'kernel_size': [3, 5],\n",
    "               'pool_size': [20],\n",
    "               'conv_l2': [200.0],\n",
    "               'conv_dropout': [0.5],\n",
    "               'output_l2': [0.0, 100.0, 700.0],\n",
    "               'output_dropout': [0.0, 0.1]}\n",
    "param_list = generate_param_list(param_items)\n",
    "len(param_list)"
   ]
  },
  {
   "cell_type": "code",
   "execution_count": 91,
   "metadata": {},
   "outputs": [],
   "source": [
    "pd.DataFrame(param_list).to_csv('hyperparameters/cnn_5.csv', index=False)\n",
    "# 100"
   ]
  },
  {
   "cell_type": "code",
   "execution_count": 96,
   "metadata": {},
   "outputs": [
    {
     "data": {
      "text/plain": [
       "18"
      ]
     },
     "execution_count": 96,
     "metadata": {},
     "output_type": "execute_result"
    }
   ],
   "source": [
    "param_items = {'filters': [15],\n",
    "               'kernel_size': [5],\n",
    "               'pool_size': [20],\n",
    "               'conv_l2': [100.0, 200.0, 800.0],\n",
    "               'conv_dropout': [0.1, 0.5],\n",
    "               'output_l2': [0.0, 1.0, 10.0]}\n",
    "param_list = generate_param_list(param_items)\n",
    "len(param_list)"
   ]
  },
  {
   "cell_type": "code",
   "execution_count": 97,
   "metadata": {},
   "outputs": [],
   "source": [
    "pd.DataFrame(param_list).to_csv('hyperparameters/cnn_6.csv', index=False)\n",
    "# 100"
   ]
  },
  {
   "cell_type": "code",
   "execution_count": 103,
   "metadata": {},
   "outputs": [
    {
     "data": {
      "text/plain": [
       "12"
      ]
     },
     "execution_count": 103,
     "metadata": {},
     "output_type": "execute_result"
    }
   ],
   "source": [
    "param_items = {'filters': [15],\n",
    "               'kernel_size': [5],\n",
    "               'pool_size': [20],\n",
    "               'conv_l2': [10.0, 50.0, 100.0, 150.0],\n",
    "               'conv_dropout': [0.1, 0.2, 0.5]}\n",
    "param_list = generate_param_list(param_items)\n",
    "len(param_list)"
   ]
  },
  {
   "cell_type": "code",
   "execution_count": 104,
   "metadata": {},
   "outputs": [],
   "source": [
    "pd.DataFrame(param_list).to_csv('hyperparameters/cnn_7.csv', index=False)\n",
    "# 100"
   ]
  },
  {
   "cell_type": "code",
   "execution_count": 107,
   "metadata": {},
   "outputs": [
    {
     "data": {
      "text/plain": [
       "36"
      ]
     },
     "execution_count": 107,
     "metadata": {},
     "output_type": "execute_result"
    }
   ],
   "source": [
    "param_items = {'filters': [15],\n",
    "               'kernel_size': [5],\n",
    "               'padding': ['same', 'valid'],\n",
    "               'pool_size': [20],\n",
    "               'conv_l2': [10.0, 1.0, 0.0],\n",
    "               'conv_dropout': [0.0, 0.1, 0.2],\n",
    "               'output_dropout': [0.0, 0.05]}\n",
    "param_list = generate_param_list(param_items)\n",
    "len(param_list)"
   ]
  },
  {
   "cell_type": "code",
   "execution_count": 108,
   "metadata": {},
   "outputs": [],
   "source": [
    "pd.DataFrame(param_list).to_csv('hyperparameters/cnn_8.csv', index=False)\n",
    "# 100"
   ]
  },
  {
   "cell_type": "code",
   "execution_count": 119,
   "metadata": {},
   "outputs": [
    {
     "data": {
      "text/plain": [
       "4"
      ]
     },
     "execution_count": 119,
     "metadata": {},
     "output_type": "execute_result"
    }
   ],
   "source": [
    "param_items = {'filters': [15],\n",
    "               'kernel_size': [5],\n",
    "               'padding': ['same'],\n",
    "               'pool_size': [20],\n",
    "               'conv_l2': [0.0],\n",
    "               'conv_dropout': [0.0],\n",
    "               'output_dropout': [0.0],\n",
    "               'output_l2': [0.0, 1.0, 10.0, 100.0]}\n",
    "param_list = generate_param_list(param_items)\n",
    "len(param_list)"
   ]
  },
  {
   "cell_type": "code",
   "execution_count": 120,
   "metadata": {},
   "outputs": [],
   "source": [
    "pd.DataFrame(param_list).to_csv('hyperparameters/cnn_9.csv', index=False)\n",
    "# 100"
   ]
  },
  {
   "cell_type": "code",
   "execution_count": 121,
   "metadata": {},
   "outputs": [
    {
     "data": {
      "text/plain": [
       "64"
      ]
     },
     "execution_count": 121,
     "metadata": {},
     "output_type": "execute_result"
    }
   ],
   "source": [
    "param_items = {'filters': [4, 15],\n",
    "               'kernel_size': [3],\n",
    "               'padding': ['same', 'valid'],\n",
    "               'pool_size': [5, 7],\n",
    "               'conv_l2': [600.0, 0.0],\n",
    "               'conv_dropout': [0.0, 0.5],\n",
    "               'output_dropout': [0.0, 0.2]}\n",
    "param_list = generate_param_list(param_items)\n",
    "len(param_list)"
   ]
  },
  {
   "cell_type": "code",
   "execution_count": 122,
   "metadata": {},
   "outputs": [],
   "source": [
    "pd.DataFrame(param_list).to_csv('hyperparameters/cnn_10.csv', index=False)\n",
    "# 30"
   ]
  },
  {
   "cell_type": "code",
   "execution_count": 123,
   "metadata": {},
   "outputs": [
    {
     "data": {
      "text/plain": [
       "12"
      ]
     },
     "execution_count": 123,
     "metadata": {},
     "output_type": "execute_result"
    }
   ],
   "source": [
    "param_items = {'filters': [4],\n",
    "               'kernel_size': [3, 5],\n",
    "               'padding': ['same'],\n",
    "               'pool_size': [3, 5],\n",
    "               'conv_l2': [0.0],\n",
    "               'conv_dropout': [0.0],\n",
    "               'output_dropout': [0.0],\n",
    "               'output_l2': [0.0, 1.0, 10.0]}\n",
    "param_list = generate_param_list(param_items)\n",
    "len(param_list)"
   ]
  },
  {
   "cell_type": "code",
   "execution_count": 124,
   "metadata": {},
   "outputs": [],
   "source": [
    "pd.DataFrame(param_list).to_csv('hyperparameters/cnn_11.csv', index=False)\n",
    "# 30"
   ]
  },
  {
   "cell_type": "code",
   "execution_count": 143,
   "metadata": {},
   "outputs": [
    {
     "data": {
      "text/plain": [
       "7"
      ]
     },
     "execution_count": 143,
     "metadata": {},
     "output_type": "execute_result"
    }
   ],
   "source": [
    "param_items = {'filters': [4],\n",
    "               'kernel_size': [5],\n",
    "               'padding': ['same'],\n",
    "               'pool_size': [5],\n",
    "               'conv_l2': [0.0],\n",
    "               'conv_dropout': [0.0],\n",
    "               'output_dropout': [0.0],\n",
    "               'output_l2': [10.0, 20.0, 50.0, 100.0, 200.0, 500.0, 700.0]}\n",
    "param_list = generate_param_list(param_items)\n",
    "len(param_list)"
   ]
  },
  {
   "cell_type": "code",
   "execution_count": 144,
   "metadata": {},
   "outputs": [],
   "source": [
    "pd.DataFrame(param_list).to_csv('hyperparameters/cnn_12.csv', index=False)\n",
    "# 30"
   ]
  },
  {
   "cell_type": "markdown",
   "metadata": {},
   "source": [
    "### >>> LSTM params <<<"
   ]
  },
  {
   "cell_type": "code",
   "execution_count": 63,
   "metadata": {},
   "outputs": [
    {
     "data": {
      "text/plain": [
       "27"
      ]
     },
     "execution_count": 63,
     "metadata": {},
     "output_type": "execute_result"
    }
   ],
   "source": [
    "param_items = {'lstm_units': [20, 30, 40],\n",
    "               'kernel_dropout': [0.4],\n",
    "               'recurrent_dropout': [0.3],\n",
    "               'recurrent_l1': [0.0, 70.0, 700.0],\n",
    "               'recurrent_l2': [0.0, 70.0, 700.0]}\n",
    "param_list = generate_param_list(param_items)\n",
    "len(param_list)"
   ]
  },
  {
   "cell_type": "code",
   "execution_count": 64,
   "metadata": {},
   "outputs": [],
   "source": [
    "pd.DataFrame(param_list).to_csv('hyperparameters/lstm_1.csv', index=False)\n",
    "# 30"
   ]
  },
  {
   "cell_type": "code",
   "execution_count": 94,
   "metadata": {},
   "outputs": [
    {
     "data": {
      "text/plain": [
       "24"
      ]
     },
     "execution_count": 94,
     "metadata": {},
     "output_type": "execute_result"
    }
   ],
   "source": [
    "param_items = {'lstm_units': [20, 15, 10],\n",
    "               'kernel_dropout': [0.4, 0.1],\n",
    "               'recurrent_dropout': [0.1, 0.3],\n",
    "               'recurrent_l2': [0.0, 10.0]}\n",
    "param_list = generate_param_list(param_items)\n",
    "len(param_list)"
   ]
  },
  {
   "cell_type": "code",
   "execution_count": 95,
   "metadata": {},
   "outputs": [],
   "source": [
    "pd.DataFrame(param_list).to_csv('hyperparameters/lstm_2.csv', index=False)\n",
    "# 30"
   ]
  },
  {
   "cell_type": "code",
   "execution_count": 117,
   "metadata": {},
   "outputs": [
    {
     "data": {
      "text/plain": [
       "12"
      ]
     },
     "execution_count": 117,
     "metadata": {},
     "output_type": "execute_result"
    }
   ],
   "source": [
    "param_items = {'lstm_units': [20],\n",
    "               'kernel_dropout': [0.5, 0.4],\n",
    "               'recurrent_dropout': [0.3],\n",
    "               'recurrent_l2': [0.0],\n",
    "               'kernel_l2': [0.0, 1.0],\n",
    "               'loss': [0.0, 0.1, 0.5]}\n",
    "param_list = generate_param_list(param_items)\n",
    "len(param_list)"
   ]
  },
  {
   "cell_type": "code",
   "execution_count": 118,
   "metadata": {},
   "outputs": [],
   "source": [
    "pd.DataFrame(param_list).to_csv('hyperparameters/lstm_3.csv', index=False)\n",
    "# 30"
   ]
  },
  {
   "cell_type": "code",
   "execution_count": 127,
   "metadata": {},
   "outputs": [
    {
     "data": {
      "text/plain": [
       "8"
      ]
     },
     "execution_count": 127,
     "metadata": {},
     "output_type": "execute_result"
    }
   ],
   "source": [
    "param_items = {'lstm_units': [20, 25],\n",
    "               'kernel_dropout': [0.5, 0.6],\n",
    "               'recurrent_dropout': [0.3, 0.4]}\n",
    "param_list = generate_param_list(param_items)\n",
    "len(param_list)"
   ]
  },
  {
   "cell_type": "code",
   "execution_count": 128,
   "metadata": {},
   "outputs": [],
   "source": [
    "pd.DataFrame(param_list).to_csv('hyperparameters/lstm_4.csv', index=False)\n",
    "# 30"
   ]
  },
  {
   "cell_type": "code",
   "execution_count": 139,
   "metadata": {},
   "outputs": [
    {
     "data": {
      "text/plain": [
       "6"
      ]
     },
     "execution_count": 139,
     "metadata": {},
     "output_type": "execute_result"
    }
   ],
   "source": [
    "param_items = {'lstm_units': [20],\n",
    "               'kernel_dropout': [0.5],\n",
    "               'recurrent_dropout': [0.3, 0.2],\n",
    "               'output_l2': [0.0, 1.0, 10.0]}\n",
    "param_list = generate_param_list(param_items)\n",
    "len(param_list)"
   ]
  },
  {
   "cell_type": "code",
   "execution_count": 140,
   "metadata": {},
   "outputs": [],
   "source": [
    "pd.DataFrame(param_list).to_csv('hyperparameters/lstm_5.csv', index=False)\n",
    "# 30"
   ]
  },
  {
   "cell_type": "code",
   "execution_count": 2,
   "metadata": {},
   "outputs": [
    {
     "data": {
      "text/plain": [
       "8"
      ]
     },
     "execution_count": 2,
     "metadata": {},
     "output_type": "execute_result"
    }
   ],
   "source": [
    "param_items = {'lstm_units': [20],\n",
    "               'kernel_dropout': [0.4, 0.5],\n",
    "               'recurrent_dropout': [0.3, 0.2],\n",
    "               'recurrent_l1': [700.0, 0.0]}\n",
    "param_list = generate_param_list(param_items)\n",
    "len(param_list)"
   ]
  },
  {
   "cell_type": "code",
   "execution_count": 3,
   "metadata": {},
   "outputs": [],
   "source": [
    "pd.DataFrame(param_list).to_csv('hyperparameters/lstm_6.csv', index=False)\n",
    "# 100"
   ]
  },
  {
   "cell_type": "code",
   "execution_count": 4,
   "metadata": {},
   "outputs": [
    {
     "data": {
      "text/plain": [
       "8"
      ]
     },
     "execution_count": 4,
     "metadata": {},
     "output_type": "execute_result"
    }
   ],
   "source": [
    "param_items = {'lstm_units': [20],\n",
    "               'kernel_dropout': [0.5],\n",
    "               'recurrent_dropout': [0.2, 0.0],\n",
    "               'recurrent_l1': [700.0, 300.0, 10.0, 0.0]}\n",
    "param_list = generate_param_list(param_items)\n",
    "len(param_list)"
   ]
  },
  {
   "cell_type": "code",
   "execution_count": 5,
   "metadata": {},
   "outputs": [],
   "source": [
    "pd.DataFrame(param_list).to_csv('hyperparameters/lstm_7.csv', index=False)\n",
    "# 100"
   ]
  },
  {
   "cell_type": "code",
   "execution_count": 5,
   "metadata": {},
   "outputs": [
    {
     "data": {
      "text/plain": [
       "16"
      ]
     },
     "execution_count": 5,
     "metadata": {},
     "output_type": "execute_result"
    }
   ],
   "source": [
    "param_items = {'lstm_units': [20],\n",
    "               'kernel_dropout': [0.4, 0.5],\n",
    "               'recurrent_dropout': [0.3, 0.2],\n",
    "               'recurrent_l1': [10.0, 700.0],\n",
    "               'kernel_l2': [0.0, 10.0]}\n",
    "param_list = generate_param_list(param_items)\n",
    "len(param_list)"
   ]
  },
  {
   "cell_type": "code",
   "execution_count": 6,
   "metadata": {},
   "outputs": [],
   "source": [
    "pd.DataFrame(param_list).to_csv('hyperparameters/lstm_8.csv', index=False)\n",
    "# 250"
   ]
  },
  {
   "cell_type": "code",
   "execution_count": 18,
   "metadata": {},
   "outputs": [
    {
     "data": {
      "text/plain": [
       "4"
      ]
     },
     "execution_count": 18,
     "metadata": {},
     "output_type": "execute_result"
    }
   ],
   "source": [
    "param_items = {'lstm_units': [20],\n",
    "               'kernel_dropout': [0.5],\n",
    "               'kernel_l1': [0.0, 1.0, 10.0, 100.0],\n",
    "               'kernel_l2': [0.0],\n",
    "               'recurrent_dropout': [0.3],\n",
    "               'recurrent_l1': [10.0]}\n",
    "param_list = generate_param_list(param_items)\n",
    "len(param_list)"
   ]
  },
  {
   "cell_type": "code",
   "execution_count": 19,
   "metadata": {},
   "outputs": [],
   "source": [
    "pd.DataFrame(param_list).to_csv('hyperparameters/lstm_9.csv', index=False)\n",
    "# 250"
   ]
  },
  {
   "cell_type": "code",
   "execution_count": 21,
   "metadata": {},
   "outputs": [
    {
     "data": {
      "text/plain": [
       "4"
      ]
     },
     "execution_count": 21,
     "metadata": {},
     "output_type": "execute_result"
    }
   ],
   "source": [
    "param_items = {'lstm_units': [20],\n",
    "               'kernel_dropout': [0.5],\n",
    "               'kernel_l1': [100.0, 200.0, 400.0, 700.0],\n",
    "               'kernel_l2': [0.0],\n",
    "               'recurrent_dropout': [0.3],\n",
    "               'recurrent_l1': [10.0]}\n",
    "param_list = generate_param_list(param_items)\n",
    "len(param_list)"
   ]
  },
  {
   "cell_type": "code",
   "execution_count": 22,
   "metadata": {},
   "outputs": [],
   "source": [
    "pd.DataFrame(param_list).to_csv('hyperparameters/lstm_10.csv', index=False)\n",
    "# 250"
   ]
  },
  {
   "cell_type": "markdown",
   "metadata": {},
   "source": [
    "### >>> ConvLSTM params <<<"
   ]
  },
  {
   "cell_type": "code",
   "execution_count": 113,
   "metadata": {},
   "outputs": [
    {
     "data": {
      "text/plain": [
       "36"
      ]
     },
     "execution_count": 113,
     "metadata": {},
     "output_type": "execute_result"
    }
   ],
   "source": [
    "param_items = {'filters': [10, 30, 50],\n",
    "               'kernel_size': [3],\n",
    "               'conv_l2': [300.0],\n",
    "               'conv_dropout': [0.1],\n",
    "               'lstm_units': [20, 50, 60],\n",
    "               'kernel_dropout': [0.3],\n",
    "               'kernel_l2': [0.0],\n",
    "               'recurrent_dropout': [0.0, 0.1],\n",
    "               'recurrent_l2': [600.0, 100.0],\n",
    "               'output_droput': [0.1]}\n",
    "param_list = generate_param_list(param_items)\n",
    "len(param_list)"
   ]
  },
  {
   "cell_type": "code",
   "execution_count": 114,
   "metadata": {},
   "outputs": [],
   "source": [
    "pd.DataFrame(param_list).to_csv('hyperparameters/convlstm_1.csv', index=False)\n",
    "# 30"
   ]
  },
  {
   "cell_type": "code",
   "execution_count": 149,
   "metadata": {},
   "outputs": [
    {
     "data": {
      "text/plain": [
       "16"
      ]
     },
     "execution_count": 149,
     "metadata": {},
     "output_type": "execute_result"
    }
   ],
   "source": [
    "param_items = {'filters': [10, 5],\n",
    "               'kernel_size': [3],\n",
    "               'conv_l2': [300.0],\n",
    "               'conv_dropout': [0.1],\n",
    "               'lstm_units': [50, 40],\n",
    "               'kernel_dropout': [0.3],\n",
    "               'kernel_l2': [0.0],\n",
    "               'recurrent_dropout': [0.0],\n",
    "               'recurrent_l2': [600.0, 10.0],\n",
    "               'output_droput': [0.1, 0.0]}\n",
    "param_list = generate_param_list(param_items)\n",
    "len(param_list)"
   ]
  },
  {
   "cell_type": "code",
   "execution_count": 150,
   "metadata": {},
   "outputs": [],
   "source": [
    "pd.DataFrame(param_list).to_csv('hyperparameters/convlstm_2.csv', index=False)\n",
    "# 30"
   ]
  },
  {
   "cell_type": "code",
   "execution_count": 151,
   "metadata": {},
   "outputs": [
    {
     "data": {
      "text/plain": [
       "16"
      ]
     },
     "execution_count": 151,
     "metadata": {},
     "output_type": "execute_result"
    }
   ],
   "source": [
    "param_items = {'filters': [10, 15],\n",
    "               'kernel_size': [3],\n",
    "               'conv_l2': [300.0, 0.0],\n",
    "               'conv_dropout': [0.1],\n",
    "               'lstm_units': [50],\n",
    "               'kernel_dropout': [0.3],\n",
    "               'kernel_l2': [0.0],\n",
    "               'recurrent_l2': [600.0, 0.0],\n",
    "               'output_droput': [0.1, 0.0]}\n",
    "param_list = generate_param_list(param_items)\n",
    "len(param_list)"
   ]
  },
  {
   "cell_type": "code",
   "execution_count": 152,
   "metadata": {},
   "outputs": [],
   "source": [
    "pd.DataFrame(param_list).to_csv('hyperparameters/convlstm_3.csv', index=False)\n",
    "# 30"
   ]
  },
  {
   "cell_type": "code",
   "execution_count": 155,
   "metadata": {},
   "outputs": [
    {
     "data": {
      "text/plain": [
       "8"
      ]
     },
     "execution_count": 155,
     "metadata": {},
     "output_type": "execute_result"
    }
   ],
   "source": [
    "param_items = {'filters': [10],\n",
    "               'kernel_size': [3, 5],\n",
    "               'pool_size': [None, 5],\n",
    "               'conv_l2': [300.0],\n",
    "               'conv_dropout': [0.1],\n",
    "               'lstm_units': [50],\n",
    "               'kernel_dropout': [0.3],\n",
    "               'kernel_l2': [0.0, 20.0],\n",
    "               'recurrent_l2': [600.0],\n",
    "               'output_droput': [0.1]}\n",
    "param_list = generate_param_list(param_items)\n",
    "len(param_list)"
   ]
  },
  {
   "cell_type": "code",
   "execution_count": 156,
   "metadata": {},
   "outputs": [],
   "source": [
    "pd.DataFrame(param_list).to_csv('hyperparameters/convlstm_4.csv', index=False)\n",
    "# 30"
   ]
  },
  {
   "cell_type": "code",
   "execution_count": 5,
   "metadata": {},
   "outputs": [
    {
     "data": {
      "text/plain": [
       "9"
      ]
     },
     "execution_count": 5,
     "metadata": {},
     "output_type": "execute_result"
    }
   ],
   "source": [
    "param_items = {'filters': [10, 30, 50],\n",
    "               'kernel_size': [3],\n",
    "               'conv_l2': [300.0],\n",
    "               'conv_dropout': [0.1],\n",
    "               'lstm_units': [20, 50, 60],\n",
    "               'kernel_dropout': [0.3],\n",
    "               'kernel_l2': [0.0],\n",
    "               'recurrent_l2': [600.0],\n",
    "               'output_droput': [0.1]}\n",
    "param_list = generate_param_list(param_items)\n",
    "len(param_list)"
   ]
  },
  {
   "cell_type": "code",
   "execution_count": 6,
   "metadata": {},
   "outputs": [],
   "source": [
    "pd.DataFrame(param_list).to_csv('hyperparameters/convlstm_5.csv', index=False)\n",
    "# 100"
   ]
  },
  {
   "cell_type": "code",
   "execution_count": 7,
   "metadata": {},
   "outputs": [
    {
     "data": {
      "text/plain": [
       "9"
      ]
     },
     "execution_count": 7,
     "metadata": {},
     "output_type": "execute_result"
    }
   ],
   "source": [
    "param_items = {'filters': [10],\n",
    "               'kernel_size': [3],\n",
    "               'conv_l2': [300.0, 30.0, 0.0],\n",
    "               'conv_dropout': [0.1],\n",
    "               'lstm_units': [20],\n",
    "               'kernel_dropout': [0.3],\n",
    "               'kernel_l2': [0.0],\n",
    "               'recurrent_l2': [600.0, 60.0, 0.0],\n",
    "               'output_droput': [0.1]}\n",
    "param_list = generate_param_list(param_items)\n",
    "len(param_list)"
   ]
  },
  {
   "cell_type": "code",
   "execution_count": 8,
   "metadata": {},
   "outputs": [],
   "source": [
    "pd.DataFrame(param_list).to_csv('hyperparameters/convlstm_6.csv', index=False)\n",
    "# 100"
   ]
  },
  {
   "cell_type": "code",
   "execution_count": 9,
   "metadata": {},
   "outputs": [
    {
     "data": {
      "text/plain": [
       "6"
      ]
     },
     "execution_count": 9,
     "metadata": {},
     "output_type": "execute_result"
    }
   ],
   "source": [
    "param_items = {'filters': [10],\n",
    "               'kernel_size': [3],\n",
    "               'conv_l2': [300.0, 600.0],\n",
    "               'conv_dropout': [0.1, 0.2, 0.0],\n",
    "               'lstm_units': [20],\n",
    "               'kernel_dropout': [0.3],\n",
    "               'kernel_l2': [0.0],\n",
    "               'recurrent_l2': [0.0],\n",
    "               'output_droput': [0.1]}\n",
    "param_list = generate_param_list(param_items)\n",
    "len(param_list)"
   ]
  },
  {
   "cell_type": "code",
   "execution_count": 10,
   "metadata": {},
   "outputs": [],
   "source": [
    "pd.DataFrame(param_list).to_csv('hyperparameters/convlstm_7.csv', index=False)\n",
    "# 100"
   ]
  },
  {
   "cell_type": "code",
   "execution_count": 13,
   "metadata": {},
   "outputs": [
    {
     "data": {
      "text/plain": [
       "12"
      ]
     },
     "execution_count": 13,
     "metadata": {},
     "output_type": "execute_result"
    }
   ],
   "source": [
    "param_items = {'filters': [10],\n",
    "               'kernel_size': [3],\n",
    "               'conv_l2': [300.0, 400.0, 600.0],\n",
    "               'conv_dropout': [0.0, 0.1, 0.2, 0.3],\n",
    "               'lstm_units': [50],\n",
    "               'kernel_dropout': [0.3],\n",
    "               'kernel_l2': [0.0],\n",
    "               'recurrent_l2': [600.0],\n",
    "               'output_droput': [0.1]}\n",
    "param_list = generate_param_list(param_items)\n",
    "len(param_list)"
   ]
  },
  {
   "cell_type": "code",
   "execution_count": 14,
   "metadata": {},
   "outputs": [],
   "source": [
    "pd.DataFrame(param_list).to_csv('hyperparameters/convlstm_8.csv', index=False)\n",
    "# 30"
   ]
  },
  {
   "cell_type": "code",
   "execution_count": 15,
   "metadata": {},
   "outputs": [
    {
     "data": {
      "text/plain": [
       "18"
      ]
     },
     "execution_count": 15,
     "metadata": {},
     "output_type": "execute_result"
    }
   ],
   "source": [
    "param_items = {'filters': [10],\n",
    "               'kernel_size': [3],\n",
    "               'conv_l2': [600.0],\n",
    "               'conv_dropout': [0.1],\n",
    "               'lstm_units': [20, 50, 80],\n",
    "               'kernel_dropout': [0.3],\n",
    "               'kernel_l2': [0.0, 50.0, 500.0],\n",
    "               'recurrent_dropout': [0.0, 0.3],\n",
    "               'recurrent_l2': [0.0],\n",
    "               'output_droput': [0.1]}\n",
    "param_list = generate_param_list(param_items)\n",
    "len(param_list)"
   ]
  },
  {
   "cell_type": "code",
   "execution_count": 16,
   "metadata": {},
   "outputs": [],
   "source": [
    "pd.DataFrame(param_list).to_csv('hyperparameters/convlstm_9.csv', index=False)\n",
    "# 100"
   ]
  },
  {
   "cell_type": "code",
   "execution_count": 10,
   "metadata": {},
   "outputs": [
    {
     "data": {
      "text/plain": [
       "6"
      ]
     },
     "execution_count": 10,
     "metadata": {},
     "output_type": "execute_result"
    }
   ],
   "source": [
    "param_items = {'filters': [10],\n",
    "               'kernel_size': [3],\n",
    "               'conv_l2': [300.0, 200.0, 100.0, 50.0, 30.0, 10.0],\n",
    "               'conv_dropout': [0.2],\n",
    "               'lstm_units': [50],\n",
    "               'kernel_dropout': [0.3],\n",
    "               'kernel_l2': [0.0],\n",
    "               'recurrent_l2': [600.0],\n",
    "               'output_droput': [0.1]}\n",
    "param_list = generate_param_list(param_items)\n",
    "len(param_list)"
   ]
  },
  {
   "cell_type": "code",
   "execution_count": 11,
   "metadata": {},
   "outputs": [],
   "source": [
    "pd.DataFrame(param_list).to_csv('hyperparameters/convlstm_10.csv', index=False)\n",
    "# 30"
   ]
  },
  {
   "cell_type": "code",
   "execution_count": 8,
   "metadata": {},
   "outputs": [
    {
     "data": {
      "text/plain": [
       "9"
      ]
     },
     "execution_count": 8,
     "metadata": {},
     "output_type": "execute_result"
    }
   ],
   "source": [
    "param_items = {'filters': [10, 30, 50],\n",
    "               'kernel_size': [3],\n",
    "               'conv_l2': [600.0],\n",
    "               'conv_dropout': [0.1],\n",
    "               'lstm_units': [20, 50, 80],\n",
    "               'kernel_dropout': [0.3],\n",
    "               'kernel_l2': [50.0],\n",
    "               'recurrent_dropout': [0.3],\n",
    "               'recurrent_l2': [0.0],\n",
    "               'output_droput': [0.1]}\n",
    "param_list = generate_param_list(param_items)\n",
    "len(param_list)"
   ]
  },
  {
   "cell_type": "code",
   "execution_count": 9,
   "metadata": {},
   "outputs": [],
   "source": [
    "pd.DataFrame(param_list).to_csv('hyperparameters/convlstm_11.csv', index=False)\n",
    "# 250"
   ]
  }
 ],
 "metadata": {
  "kernelspec": {
   "display_name": "timeseries",
   "language": "python",
   "name": "timeseries"
  },
  "language_info": {
   "codemirror_mode": {
    "name": "ipython",
    "version": 3
   },
   "file_extension": ".py",
   "mimetype": "text/x-python",
   "name": "python",
   "nbconvert_exporter": "python",
   "pygments_lexer": "ipython3",
   "version": "3.7.6"
  }
 },
 "nbformat": 4,
 "nbformat_minor": 4
}
