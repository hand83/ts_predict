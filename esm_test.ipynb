{
 "cells": [
  {
   "cell_type": "code",
   "execution_count": 1,
   "metadata": {},
   "outputs": [],
   "source": [
    "import numpy as np\n",
    "import pandas as pd\n",
    "import matplotlib\n",
    "matplotlib.use('Agg')\n",
    "from matplotlib import pyplot as plt\n",
    "%matplotlib inline"
   ]
  },
  {
   "cell_type": "code",
   "execution_count": 2,
   "metadata": {},
   "outputs": [],
   "source": [
    "from statsmodels.tsa.holtwinters import ExponentialSmoothing\n",
    "import warnings\n",
    "warnings.filterwarnings(\"ignore\")"
   ]
  },
  {
   "cell_type": "code",
   "execution_count": 3,
   "metadata": {},
   "outputs": [],
   "source": [
    "%run ts_lib"
   ]
  },
  {
   "cell_type": "code",
   "execution_count": 55,
   "metadata": {},
   "outputs": [],
   "source": [
    "data_tcs = pd.read_csv('data/TCS_20200303.csv', index_col=0, parse_dates=True)\n",
    "data_tcs = data_tcs.loc[~data_tcs.index.duplicated(), :] #.asfreq('B')\n",
    "\n",
    "train_tcs = data_tcs.loc[data_tcs.index < '2016', 'Close'].diff().dropna()\n",
    "val_tcs = data_tcs.loc[(data_tcs.index >= '2016') & (data_tcs.index < '2018'), 'Close'].diff().dropna()\n",
    "test_tcs = data_tcs.loc[data_tcs.index >= '2018', 'Close'].diff().dropna()\n",
    "train_val_tcs = data_tcs.loc[(data_tcs.index < '2018'), 'Close'].diff().dropna()\n",
    "\n",
    "train_tcs_close = data_tcs.loc[data_tcs.index < '2016', 'Close']\n",
    "val_tcs_close = data_tcs.loc[(data_tcs.index >= '2016') & (data_tcs.index < '2018'), 'Close']\n",
    "test_tcs_close = data_tcs.loc[data_tcs.index >= '2018', 'Close']\n",
    "train_val_tcs_close = data_tcs.loc[(data_tcs.index < '2018'), 'Close']"
   ]
  },
  {
   "cell_type": "code",
   "execution_count": 5,
   "metadata": {},
   "outputs": [],
   "source": [
    "pred_window = 30\n",
    "train_X = get_rolling_windows(train_tcs, pred_window + 1)\n",
    "train_X, train_Y = train_X[:, :-1], train_X[:, -1].reshape((-1, 1))\n",
    "val_X = get_rolling_windows(val_tcs, pred_window + 1)\n",
    "val_X, val_Y = val_X[:, :-1], val_X[:, -1].reshape((-1, 1))"
   ]
  },
  {
   "cell_type": "code",
   "execution_count": 19,
   "metadata": {},
   "outputs": [],
   "source": [
    "class ESM(object):\n",
    "    \n",
    "    def __init__(self, trend, damped, seasonal=None, periods=None, use_boxcox=False, remove_bias=False):\n",
    "            self.trend = trend\n",
    "            self.damped = damped\n",
    "            self.seasonal = seasonal\n",
    "            self.periods = periods\n",
    "            self.use_boxcox = use_boxcox\n",
    "            self.remove_bias = remove_bias\n",
    "            \n",
    "    def predict(self, history, steps=1):\n",
    "        try:\n",
    "            model = ExponentialSmoothing(history, trend=self.trend, damped=self.damped, seasonal=self.seasonal, \n",
    "                                             seasonal_periods=self.periods)\n",
    "            model_fit = model.fit(optimized=True, use_boxcox=self.use_boxcox, remove_bias=self.remove_bias)\n",
    "            yhat = model_fit.forecast(steps)\n",
    "        except:\n",
    "            yhat = np.full((steps,), np.NaN)\n",
    "        return yhat\n",
    "    \n",
    "    def bulk_predict(self, X, steps):\n",
    "        yhat_list = []\n",
    "        for x in X:\n",
    "            yhat = self.predict(x, steps)\n",
    "            yhat_list.append(yhat)\n",
    "        return np.array(yhat_list)\n",
    "    \n",
    "    def stepforward_predict(self, x, initial_history, fixed_history=False):\n",
    "        pred_y = []\n",
    "        if fixed_history:\n",
    "            for i in range(x.shape[0] - initial_history):\n",
    "                yhat = self.predict(x[i:i+initial_history])\n",
    "                pred_y.append(yhat[0])\n",
    "        else:\n",
    "            for i in range(initial_history, x.shape[0]):\n",
    "                yhat = self.predict(x[:i], steps=1)\n",
    "                pred_y.append(yhat[0])\n",
    "        return np.array(pred_y)\n"
   ]
  },
  {
   "cell_type": "code",
   "execution_count": 7,
   "metadata": {},
   "outputs": [],
   "source": [
    "params = {'trend': 'add', # add, mul\n",
    "          'damped': False,\n",
    "          'seasonal': None, # add, mul\n",
    "          'periods': None,\n",
    "          'use_boxcox': False,\n",
    "          'remove_bias': False}"
   ]
  },
  {
   "cell_type": "code",
   "execution_count": 52,
   "metadata": {},
   "outputs": [],
   "source": [
    "def validate_esm_params(params, ts, initial_history, fixed_history=False):\n",
    "    esm = ESM(**params)\n",
    "    pred_y = esm.stepforward_predict(ts, initial_history, fixed_history)\n",
    "    n_failures = (np.isnan(pred_y)).sum()\n",
    "    mse = np.nanmean(np.square(pred_Y - ts[initial_history:]))\n",
    "    return (mse, n_failures)"
   ]
  },
  {
   "cell_type": "code",
   "execution_count": 39,
   "metadata": {},
   "outputs": [],
   "source": [
    "def esm_grid_search(ts, initial_history, fixed_history, params_list, parallel=False):\n",
    "    results = [validate_esm_params(params, ts, initial_history, fixed_history)]\n",
    "    mse_list, failure_list = zip(*results)\n",
    "    mse_list = np.concatenate(mse_list, axis=0)\n",
    "    failure_list = np.concatenate(failure_list, axis=0)\n",
    "    mse_df = pd.DataFrame(mse_list).rename(columns={x: 'mse_{}'.format(x) for x in range(mse_list.shape[0])})\n",
    "    failure_df = pd.DataFrame(failure_list).rename(columns={x: 'failures_{}'.format(x) for x in \n",
    "                                                            range(failure_list.shape[0])})\n",
    "    params_df = pd.DataFrame(params_list)\n",
    "    return pd.concat([params_df, mse_df, failure_df], axis=1)"
   ]
  },
  {
   "cell_type": "code",
   "execution_count": 18,
   "metadata": {},
   "outputs": [
    {
     "data": {
      "text/plain": [
       "(array([51.64318344]), array([0]))"
      ]
     },
     "execution_count": 18,
     "metadata": {},
     "output_type": "execute_result"
    }
   ],
   "source": [
    "esm_mse(params, train_X[:10, :], train_Y[:10, :])"
   ]
  },
  {
   "cell_type": "code",
   "execution_count": 20,
   "metadata": {},
   "outputs": [],
   "source": [
    "esm = ESM(**params)"
   ]
  },
  {
   "cell_type": "code",
   "execution_count": 49,
   "metadata": {},
   "outputs": [],
   "source": [
    "pred_Y = esm.stepforward_predict(train_val_tcs.values, train_tcs.shape[0] + 31)"
   ]
  },
  {
   "cell_type": "code",
   "execution_count": 51,
   "metadata": {},
   "outputs": [
    {
     "data": {
      "text/plain": [
       "1098.6074655952507"
      ]
     },
     "execution_count": 51,
     "metadata": {},
     "output_type": "execute_result"
    }
   ],
   "source": [
    "np.mean(np.square(pred_Y - val_tcs[30:].values))"
   ]
  },
  {
   "cell_type": "code",
   "execution_count": 33,
   "metadata": {},
   "outputs": [],
   "source": [
    "pred_Y = esm.bulk_predict(val_X, 1)"
   ]
  },
  {
   "cell_type": "code",
   "execution_count": 35,
   "metadata": {},
   "outputs": [
    {
     "data": {
      "text/plain": [
       "1664.0621520649347"
      ]
     },
     "execution_count": 35,
     "metadata": {},
     "output_type": "execute_result"
    }
   ],
   "source": [
    "np.mean(np.square(pred_Y - val_Y))"
   ]
  },
  {
   "cell_type": "code",
   "execution_count": 53,
   "metadata": {},
   "outputs": [],
   "source": [
    "res = validate_esm_params(params, train_val_tcs.values, train_tcs.shape[0] + 31)"
   ]
  },
  {
   "cell_type": "code",
   "execution_count": 54,
   "metadata": {},
   "outputs": [
    {
     "data": {
      "text/plain": [
       "(1098.6074655952507, 0)"
      ]
     },
     "execution_count": 54,
     "metadata": {},
     "output_type": "execute_result"
    }
   ],
   "source": [
    "res"
   ]
  },
  {
   "cell_type": "code",
   "execution_count": 64,
   "metadata": {},
   "outputs": [],
   "source": [
    "res = validate_esm_params(params, train_val_tcs_close.values, train_tcs_close.shape[0] + 31)"
   ]
  },
  {
   "cell_type": "code",
   "execution_count": 65,
   "metadata": {},
   "outputs": [
    {
     "data": {
      "text/plain": [
       "(6047800.835627588, 0)"
      ]
     },
     "execution_count": 65,
     "metadata": {},
     "output_type": "execute_result"
    }
   ],
   "source": [
    "res"
   ]
  },
  {
   "cell_type": "code",
   "execution_count": 12,
   "metadata": {},
   "outputs": [
    {
     "data": {
      "text/plain": [
       "16"
      ]
     },
     "execution_count": 12,
     "metadata": {},
     "output_type": "execute_result"
    }
   ],
   "source": [
    "param_items = {'trend': ['add', 'mul'],\n",
    "               'damped': [False, True],\n",
    "               'seasonal': [None],\n",
    "               'periods': [None],\n",
    "               'use_boxcox': [False, True],\n",
    "               'remove_bias': [False, True]}\n",
    "param_list = generate_param_list(param_items)\n",
    "len(param_list)"
   ]
  }
 ],
 "metadata": {
  "kernelspec": {
   "display_name": "timeseries",
   "language": "python",
   "name": "timeseries"
  },
  "language_info": {
   "codemirror_mode": {
    "name": "ipython",
    "version": 3
   },
   "file_extension": ".py",
   "mimetype": "text/x-python",
   "name": "python",
   "nbconvert_exporter": "python",
   "pygments_lexer": "ipython3",
   "version": "3.7.6"
  }
 },
 "nbformat": 4,
 "nbformat_minor": 4
}
