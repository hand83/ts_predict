{
 "cells": [
  {
   "cell_type": "code",
   "execution_count": 113,
   "metadata": {},
   "outputs": [],
   "source": [
    "import numpy as np\n",
    "import pandas as pd\n",
    "import tensorflow as tf\n",
    "from tensorflow.keras import layers"
   ]
  },
  {
   "cell_type": "code",
   "execution_count": 224,
   "metadata": {},
   "outputs": [],
   "source": [
    "prng = np.random.RandomState(42)"
   ]
  },
  {
   "cell_type": "code",
   "execution_count": 296,
   "metadata": {},
   "outputs": [],
   "source": [
    "N = 100\n",
    "label = np.reshape(prng.choice(2, N), (N, 1))\n",
    "X = np.concatenate([\n",
    "        np.reshape(prng.lognormal(100, 30, N), (N, 1)),\n",
    "        np.reshape(prng.poisson(30, N), (N, 1))\n",
    "    ], axis = 1)\n",
    "df = pd.DataFrame(data = X, columns = ['x1', 'x2'])\n",
    "df['y'] = label\n",
    "df.to_csv('test.csv') #, index = False)"
   ]
  },
  {
   "cell_type": "code",
   "execution_count": 267,
   "metadata": {},
   "outputs": [
    {
     "name": "stdout",
     "output_type": "stream",
     "text": [
      "<DatasetV1Adapter shapes: ((2,), (1,)), types: (tf.float32, tf.int32)>\n"
     ]
    }
   ],
   "source": [
    "ds1 = tf.data.Dataset.from_tensor_slices((X, label))\n",
    "print(ds1)"
   ]
  },
  {
   "cell_type": "code",
   "execution_count": 314,
   "metadata": {},
   "outputs": [
    {
     "name": "stdout",
     "output_type": "stream",
     "text": [
      "<DatasetV1Adapter shapes: (2,), types: tf.float32>\n"
     ]
    }
   ],
   "source": [
    "X = tf.placeholder(tf.float32, shape = [None, 2])\n",
    "ds2 = tf.data.Dataset.from_tensor_slices(X)\n",
    "print(ds2)"
   ]
  },
  {
   "cell_type": "code",
   "execution_count": 299,
   "metadata": {},
   "outputs": [
    {
     "name": "stdout",
     "output_type": "stream",
     "text": [
      "<DatasetV1Adapter shapes: (OrderedDict([(, (4,)), (x1, (4,)), (x2, (4,))]), (4,)), types: (OrderedDict([(, tf.int32), (x1, tf.float64), (x2, tf.float32)]), tf.int32)>\n"
     ]
    }
   ],
   "source": [
    "ds3 = tf.data.experimental.make_csv_dataset('test.csv', label_name = 'y', batch_size = 4, shuffle = False)\n",
    "print(ds3)"
   ]
  },
  {
   "cell_type": "code",
   "execution_count": 309,
   "metadata": {},
   "outputs": [
    {
     "name": "stdout",
     "output_type": "stream",
     "text": [
      "(OrderedDict([('', array([0, 1, 2, 3])), ('x1', array([2.08624457e+49, 6.18757924e+38, 6.45307086e+43, 3.33607868e+52])), ('x2', array([31., 32., 31., 26.], dtype=float32))]), array([1, 0, 1, 0]))\n",
      "(OrderedDict([('', array([4, 5, 6, 7])), ('x1', array([2.34900810e+27, 3.24577750e+34, 2.44258981e+49, 5.84559115e+70])), ('x2', array([32., 25., 30., 39.], dtype=float32))]), array([0, 1, 0, 0]))\n",
      "(OrderedDict([('', array([ 8,  9, 10, 11])), ('x1', array([4.26968967e+41, 1.35289101e+51, 1.08576195e+42, 5.42805850e+68])), ('x2', array([28., 36., 32., 36.], dtype=float32))]), array([0, 0, 1, 0]))\n"
     ]
    }
   ],
   "source": [
    "#ds4 = tf.data.Dataset.from_tensor_slices(prng.random_sample((100, 2)))\n",
    "iter1 = ds3.make_one_shot_iterator()\n",
    "el1 = iter1.get_next()\n",
    "with tf.Session() as sess:\n",
    "    print(sess.run(el1))\n",
    "    print(sess.run(el1))\n",
    "    print(sess.run(el1))"
   ]
  },
  {
   "cell_type": "code",
   "execution_count": 331,
   "metadata": {},
   "outputs": [
    {
     "name": "stdout",
     "output_type": "stream",
     "text": [
      "[0.38162103 0.6180375 ]\n",
      "[0.7184415  0.39202952]\n",
      "[0.9049295 0.560004 ]\n"
     ]
    }
   ],
   "source": [
    "X = tf.placeholder(tf.float32, shape = [None, 2])\n",
    "ds2 = tf.data.Dataset.from_tensor_slices(X)\n",
    "iter2 = ds2.make_initializable_iterator()\n",
    "el2 = iter2.get_next()\n",
    "with tf.Session() as sess:\n",
    "    sess.run(iter2.initializer, feed_dict = {X : prng.random_sample((100, 2))})\n",
    "    print(sess.run(el2))\n",
    "    print(sess.run(el2))\n",
    "    print(sess.run(el2))"
   ]
  }
 ],
 "metadata": {
  "kernelspec": {
   "display_name": "Python 3",
   "language": "python",
   "name": "python3"
  },
  "language_info": {
   "codemirror_mode": {
    "name": "ipython",
    "version": 3
   },
   "file_extension": ".py",
   "mimetype": "text/x-python",
   "name": "python",
   "nbconvert_exporter": "python",
   "pygments_lexer": "ipython3",
   "version": "3.7.5"
  }
 },
 "nbformat": 4,
 "nbformat_minor": 2
}
