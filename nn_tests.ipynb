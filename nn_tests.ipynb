{
 "cells": [
  {
   "cell_type": "code",
   "execution_count": 1,
   "metadata": {},
   "outputs": [],
   "source": [
    "import numpy as np\n",
    "import pandas as pd\n",
    "import matplotlib\n",
    "matplotlib.use('Agg')\n",
    "from matplotlib import pyplot as plt\n",
    "%matplotlib inline"
   ]
  },
  {
   "cell_type": "code",
   "execution_count": 2,
   "metadata": {},
   "outputs": [],
   "source": [
    "import tensorflow as tf"
   ]
  },
  {
   "cell_type": "code",
   "execution_count": 9,
   "metadata": {},
   "outputs": [
    {
     "name": "stdout",
     "output_type": "stream",
     "text": [
      "Device mapping:\n",
      "/job:localhost/replica:0/task:0/device:GPU:0 -> device: 0, name: GeForce GTX 960M, pci bus id: 0000:01:00.0, compute capability: 5.0\n",
      "\n",
      "WARNING:tensorflow:From C:\\Users\\hand\\Documents\\Ipython Notebook\\ts_ml.py:12: The name tf.keras.backend.set_session is deprecated. Please use tf.compat.v1.keras.backend.set_session instead.\n",
      "\n",
      "Device mapping:\n",
      "/job:localhost/replica:0/task:0/device:GPU:0 -> device: 0, name: GeForce GTX 960M, pci bus id: 0000:01:00.0, compute capability: 5.0\n",
      "\n"
     ]
    }
   ],
   "source": [
    "%run ts_lib\n",
    "%run ts_ml\n",
    "%run ts_validation"
   ]
  },
  {
   "cell_type": "code",
   "execution_count": 10,
   "metadata": {},
   "outputs": [],
   "source": [
    "data_tcs = pd.read_csv('data/TCS_20200303.csv', index_col=0, parse_dates=True)\n",
    "data_tcs = data_tcs.loc[~data_tcs.index.duplicated(), :] #.asfreq('B')"
   ]
  },
  {
   "cell_type": "code",
   "execution_count": 11,
   "metadata": {},
   "outputs": [],
   "source": [
    "train_tcs = data_tcs.loc[data_tcs.index < '2016', 'Close'].diff().dropna()\n",
    "val_tcs = data_tcs.loc[(data_tcs.index >= '2016') & (data_tcs.index < '2018'), 'Close'].diff().dropna()\n",
    "test_tcs = data_tcs.loc[data_tcs.index >= '2018', 'Close'].diff().dropna()"
   ]
  },
  {
   "cell_type": "code",
   "execution_count": 30,
   "metadata": {},
   "outputs": [
    {
     "name": "stdout",
     "output_type": "stream",
     "text": [
      "30 1094.1609967672412\n",
      "100 1084.7510406091371\n",
      "250 1001.2030122950817\n"
     ]
    }
   ],
   "source": [
    "for pred_window in [30, 100, 250]:\n",
    "    val_X = get_rolling_windows(val_tcs, pred_window + 1)\n",
    "    val_X, val_Y = val_X[:, :-1], val_X[:, -1].reshape((-1, 1))\n",
    "\n",
    "    print(pred_window, np.mean(np.square(0 - val_Y)))"
   ]
  },
  {
   "cell_type": "code",
   "execution_count": 46,
   "metadata": {},
   "outputs": [
    {
     "name": "stdout",
     "output_type": "stream",
     "text": [
      "30 1093.4589224137928\n",
      "100 1084.6665228426396\n",
      "250 1000.0005225409835\n"
     ]
    }
   ],
   "source": [
    "for pred_window in [30, 100, 250]:\n",
    "    train_X = get_rolling_windows(train_tcs, pred_window + 1)\n",
    "    train_X, train_Y = train_X[:, :-1], train_X[:, -1].reshape((-1, 1))\n",
    "    val_X = get_rolling_windows(val_tcs, pred_window + 1)\n",
    "    val_X, val_Y = val_X[:, :-1], val_X[:, -1].reshape((-1, 1))\n",
    "\n",
    "    print(pred_window, np.mean(np.square(np.median(train_Y) - val_Y)))"
   ]
  },
  {
   "cell_type": "code",
   "execution_count": 48,
   "metadata": {},
   "outputs": [
    {
     "name": "stdout",
     "output_type": "stream",
     "text": [
      "30 1093.29397089356\n",
      "100 1084.6391384730348\n",
      "250 998.9431654797097\n"
     ]
    }
   ],
   "source": [
    "for pred_window in [30, 100, 250]:\n",
    "    val_X = get_rolling_windows(val_tcs, pred_window + 1)\n",
    "    val_X, val_Y = val_X[:, :-1], val_X[:, -1].reshape((-1, 1))\n",
    "\n",
    "    print(pred_window, np.mean(np.square(np.mean(val_Y) - val_Y)))"
   ]
  },
  {
   "cell_type": "code",
   "execution_count": 12,
   "metadata": {},
   "outputs": [],
   "source": [
    "pred_window = 100\n",
    "train_X = get_rolling_windows(train_tcs, pred_window + 1)\n",
    "train_X, train_Y = train_X[:, :-1], train_X[:, -1].reshape((-1, 1))\n",
    "val_X = get_rolling_windows(val_tcs, pred_window + 1)\n",
    "val_X, val_Y = val_X[:, :-1], val_X[:, -1].reshape((-1, 1))"
   ]
  },
  {
   "cell_type": "code",
   "execution_count": 13,
   "metadata": {},
   "outputs": [],
   "source": [
    "sc = StandardScaler1D()\n",
    "sc.fit(train_tcs)\n",
    "train_X_sc = sc.transform(train_X)\n",
    "train_Y_sc = sc.transform(train_Y)\n",
    "val_X_sc = sc.transform(val_X)\n",
    "val_Y_sc = sc.transform(val_Y)"
   ]
  },
  {
   "cell_type": "code",
   "execution_count": 14,
   "metadata": {},
   "outputs": [],
   "source": [
    "ffn_factory = FFNModelFactory(seed=987654,\n",
    "                              fixed_model_params={'n_input': 100,\n",
    "                                                  'n_output': 1},\n",
    "                              fixed_hidden_layer_params={})"
   ]
  },
  {
   "cell_type": "code",
   "execution_count": 15,
   "metadata": {},
   "outputs": [
    {
     "name": "stdout",
     "output_type": "stream",
     "text": [
      "Model: \"sequential\"\n",
      "_________________________________________________________________\n",
      "Layer (type)                 Output Shape              Param #   \n",
      "=================================================================\n",
      "dropout (Dropout)            (None, 100)               0         \n",
      "_________________________________________________________________\n",
      "dense (Dense)                (None, 20)                2020      \n",
      "_________________________________________________________________\n",
      "dense_1 (Dense)              (None, 1)                 21        \n",
      "=================================================================\n",
      "Total params: 2,041\n",
      "Trainable params: 2,041\n",
      "Non-trainable params: 0\n",
      "_________________________________________________________________\n"
     ]
    }
   ],
   "source": [
    "nn_model = ffn_factory.build_model({'hidden_units': 20,\n",
    "                                    'hidden_dropout': 0.2,\n",
    "                                    'hidden_l2': 500.0,\n",
    "                                    'output_l2': 20.0})\n",
    "nn_model.summary()"
   ]
  },
  {
   "cell_type": "code",
   "execution_count": 16,
   "metadata": {},
   "outputs": [],
   "source": [
    "nn_model.fit(x=train_X, y=train_Y, validation_data=(val_X, val_Y))"
   ]
  },
  {
   "cell_type": "code",
   "execution_count": 17,
   "metadata": {},
   "outputs": [
    {
     "data": {
      "text/plain": [
       "<matplotlib.axes._subplots.AxesSubplot at 0x1aa8461ffc8>"
      ]
     },
     "execution_count": 17,
     "metadata": {},
     "output_type": "execute_result"
    },
    {
     "data": {
      "image/png": "[encoded data removed]",
      "text/plain": [
       "<Figure size 432x288 with 1 Axes>"
      ]
     },
     "metadata": {
      "needs_background": "light"
     },
     "output_type": "display_data"
    }
   ],
   "source": [
    "nn_model.plot_history()"
   ]
  },
  {
   "cell_type": "code",
   "execution_count": 18,
   "metadata": {},
   "outputs": [
    {
     "data": {
      "text/plain": [
       "<matplotlib.axes._subplots.AxesSubplot at 0x1aa84a4e748>"
      ]
     },
     "execution_count": 18,
     "metadata": {},
     "output_type": "execute_result"
    },
    {
     "data": {
      "image/png": "[encoded data removed]",
      "text/plain": [
       "<Figure size 432x288 with 1 Axes>"
      ]
     },
     "metadata": {
      "needs_background": "light"
     },
     "output_type": "display_data"
    }
   ],
   "source": [
    "pd.Series(val_Y.flatten()).plot()\n",
    "pd.Series(nn_model.predict(val_X).flatten()).plot()"
   ]
  },
  {
   "cell_type": "code",
   "execution_count": 19,
   "metadata": {},
   "outputs": [
    {
     "name": "stdout",
     "output_type": "stream",
     "text": [
      "1084.7510406091371\n"
     ]
    },
    {
     "data": {
      "text/plain": [
       "1072.8124858807432"
      ]
     },
     "execution_count": 19,
     "metadata": {},
     "output_type": "execute_result"
    }
   ],
   "source": [
    "print(np.mean(np.square(0 - val_Y)))\n",
    "nn_model.mse(val_X, val_Y)"
   ]
  },
  {
   "cell_type": "code",
   "execution_count": 79,
   "metadata": {},
   "outputs": [],
   "source": [
    "nn_model.fit(x=train_X_sc, y=train_Y_sc, validation_data=(val_X_sc, val_Y_sc))"
   ]
  },
  {
   "cell_type": "code",
   "execution_count": 80,
   "metadata": {},
   "outputs": [
    {
     "data": {
      "text/plain": [
       "<matplotlib.axes._subplots.AxesSubplot at 0x2957f3860c8>"
      ]
     },
     "execution_count": 80,
     "metadata": {},
     "output_type": "execute_result"
    },
    {
     "data": {
      "image/png": "[encoded data removed]",
      "text/plain": [
       "<Figure size 432x288 with 1 Axes>"
      ]
     },
     "metadata": {
      "needs_background": "light"
     },
     "output_type": "display_data"
    }
   ],
   "source": [
    "nn_model.plot_history()"
   ]
  },
  {
   "cell_type": "code",
   "execution_count": 81,
   "metadata": {},
   "outputs": [
    {
     "data": {
      "text/plain": [
       "<matplotlib.axes._subplots.AxesSubplot at 0x2957f3c51c8>"
      ]
     },
     "execution_count": 81,
     "metadata": {},
     "output_type": "execute_result"
    },
    {
     "data": {
      "image/png": "[encoded data removed]",
      "text/plain": [
       "<Figure size 432x288 with 1 Axes>"
      ]
     },
     "metadata": {
      "needs_background": "light"
     },
     "output_type": "display_data"
    }
   ],
   "source": [
    "pd.Series(val_Y.flatten()).plot()\n",
    "pd.Series(nn_model.predict(val_X).flatten()).plot()"
   ]
  },
  {
   "cell_type": "code",
   "execution_count": 82,
   "metadata": {},
   "outputs": [
    {
     "name": "stdout",
     "output_type": "stream",
     "text": [
      "1084.7510406091371\n"
     ]
    },
    {
     "data": {
      "text/plain": [
       "1084.7525928576902"
      ]
     },
     "execution_count": 82,
     "metadata": {},
     "output_type": "execute_result"
    }
   ],
   "source": [
    "print(np.mean(np.square(0 - val_Y)))\n",
    "nn_model.mse(val_X, val_Y)"
   ]
  },
  {
   "cell_type": "code",
   "execution_count": null,
   "metadata": {},
   "outputs": [],
   "source": []
  },
  {
   "cell_type": "code",
   "execution_count": null,
   "metadata": {},
   "outputs": [],
   "source": []
  },
  {
   "cell_type": "code",
   "execution_count": null,
   "metadata": {},
   "outputs": [],
   "source": [
    "cnn_model = CNNModel(n_input=10, n_output=1, seed=987654,\n",
    "                        hidden_layer_properties={'filters': 10, \n",
    "                                                 'kernel_size': 3, \n",
    "                                                 'l2': 200.4, \n",
    "                                                 'dropout': 0.6,\n",
    "                                                 'pool_size': 4},\n",
    "                       output_layer_properties={'l2': 700.0, 'dropout': 0.2})\n",
    "cnn_model.build_model() #loss=signed_mse(0.0))\n",
    "cnn_model.summary()"
   ]
  },
  {
   "cell_type": "code",
   "execution_count": 12,
   "metadata": {},
   "outputs": [],
   "source": [
    "cnn_factory = CNNModelFactory(seed=987654,\n",
    "                              fixed_model_params={'n_input': 10,\n",
    "                                                  'n_output': 1},\n",
    "                              fixed_hidden_layer_params={'filters': 10,\n",
    "                                                         'kernel_size': 3,\n",
    "                                                         'pool_size': 4})"
   ]
  },
  {
   "cell_type": "code",
   "execution_count": 13,
   "metadata": {},
   "outputs": [
    {
     "name": "stdout",
     "output_type": "stream",
     "text": [
      "WARNING:tensorflow:Large dropout rate: 0.6 (>0.5). In TensorFlow 2.x, dropout() uses dropout rate instead of keep_prob. Please ensure that this is intended.\n",
      "Model: \"sequential\"\n",
      "_________________________________________________________________\n",
      "Layer (type)                 Output Shape              Param #   \n",
      "=================================================================\n",
      "reshape (Reshape)            (None, 10, 1)             0         \n",
      "_________________________________________________________________\n",
      "dropout (Dropout)            (None, 10, 1)             0         \n",
      "_________________________________________________________________\n",
      "conv1d (Conv1D)              (None, 8, 10)             40        \n",
      "_________________________________________________________________\n",
      "average_pooling1d (AveragePo (None, 2, 10)             0         \n",
      "_________________________________________________________________\n",
      "flatten (Flatten)            (None, 20)                0         \n",
      "_________________________________________________________________\n",
      "dropout_1 (Dropout)          (None, 20)                0         \n",
      "_________________________________________________________________\n",
      "dense (Dense)                (None, 1)                 21        \n",
      "=================================================================\n",
      "Total params: 61\n",
      "Trainable params: 61\n",
      "Non-trainable params: 0\n",
      "_________________________________________________________________\n"
     ]
    }
   ],
   "source": [
    "cnn_model = cnn_factory.build_model({'conv_l2': 200.4,\n",
    "                                     'conv_dropout': 0.6,\n",
    "                                     'output_dropout': 0.2,\n",
    "                                     'output_l2': 700.0})\n",
    "cnn_model.summary()"
   ]
  },
  {
   "cell_type": "code",
   "execution_count": 14,
   "metadata": {},
   "outputs": [
    {
     "name": "stdout",
     "output_type": "stream",
     "text": [
      "WARNING:tensorflow:Large dropout rate: 0.6 (>0.5). In TensorFlow 2.x, dropout() uses dropout rate instead of keep_prob. Please ensure that this is intended.\n",
      "WARNING:tensorflow:Large dropout rate: 0.6 (>0.5). In TensorFlow 2.x, dropout() uses dropout rate instead of keep_prob. Please ensure that this is intended.\n"
     ]
    }
   ],
   "source": [
    "cnn_model.fit(x=train_X, y=train_Y, validation_data=(val_X, val_Y))"
   ]
  },
  {
   "cell_type": "code",
   "execution_count": 15,
   "metadata": {},
   "outputs": [
    {
     "data": {
      "text/plain": [
       "<matplotlib.axes._subplots.AxesSubplot at 0x2957ccc4588>"
      ]
     },
     "execution_count": 15,
     "metadata": {},
     "output_type": "execute_result"
    },
    {
     "data": {
      "image/png": "[encoded data removed]",
      "text/plain": [
       "<Figure size 432x288 with 1 Axes>"
      ]
     },
     "metadata": {
      "needs_background": "light"
     },
     "output_type": "display_data"
    }
   ],
   "source": [
    "cnn_model.plot_history()"
   ]
  },
  {
   "cell_type": "code",
   "execution_count": 16,
   "metadata": {},
   "outputs": [
    {
     "data": {
      "text/plain": [
       "<matplotlib.axes._subplots.AxesSubplot at 0x2957cd27b48>"
      ]
     },
     "execution_count": 16,
     "metadata": {},
     "output_type": "execute_result"
    },
    {
     "data": {
      "image/png": "[encoded data removed]",
      "text/plain": [
       "<Figure size 432x288 with 1 Axes>"
      ]
     },
     "metadata": {
      "needs_background": "light"
     },
     "output_type": "display_data"
    }
   ],
   "source": [
    "pd.Series(val_Y.flatten()).plot()\n",
    "pd.Series(cnn_model.predict(val_X).flatten()).plot()"
   ]
  },
  {
   "cell_type": "code",
   "execution_count": 17,
   "metadata": {},
   "outputs": [
    {
     "name": "stdout",
     "output_type": "stream",
     "text": [
      "1100.8604648760327\n"
     ]
    },
    {
     "data": {
      "text/plain": [
       "1100.4283134765572"
      ]
     },
     "execution_count": 17,
     "metadata": {},
     "output_type": "execute_result"
    }
   ],
   "source": [
    "print(np.mean(np.square(0 - val_Y)))\n",
    "cnn_model.mse(val_X, val_Y)"
   ]
  },
  {
   "cell_type": "code",
   "execution_count": null,
   "metadata": {},
   "outputs": [],
   "source": []
  },
  {
   "cell_type": "code",
   "execution_count": null,
   "metadata": {},
   "outputs": [],
   "source": []
  },
  {
   "cell_type": "code",
   "execution_count": null,
   "metadata": {},
   "outputs": [],
   "source": [
    "lstm_model = LSTMModel(n_input=10, n_output=1, seed=987654,\n",
    "                       hidden_layer_properties={'units': 20,\n",
    "                                                'return_sequences': True,\n",
    "                                                'kernel_dropout': 0.4,\n",
    "                                                'recurrent_dropout': 0.3,\n",
    "                                                'recurrent_l1': 700.0})\n",
    "lstm_model.build_model() #loss=signed_mse(0.0))\n",
    "lstm_model.summary()"
   ]
  },
  {
   "cell_type": "code",
   "execution_count": null,
   "metadata": {},
   "outputs": [],
   "source": [
    "lstm_factory = LSTMModelFactory(seed=987654,\n",
    "                                fixed_model_params={'n_input': 10,\n",
    "                                                    'n_output': 1},\n",
    "                                fixed_hidden_layer_params={'units': 20})"
   ]
  },
  {
   "cell_type": "code",
   "execution_count": null,
   "metadata": {},
   "outputs": [],
   "source": [
    "lstm_model = lstm_factory.build_model({'kernel_dropout': 0.4,\n",
    "                                       'recurrent_dropout': 0.3,\n",
    "                                       'recurrent_l1': 700.0})\n",
    "lstm_model.summary()"
   ]
  },
  {
   "cell_type": "code",
   "execution_count": null,
   "metadata": {},
   "outputs": [],
   "source": [
    "lstm_model.fit(x=train_X, y=train_Y, validation_data=(val_X, val_Y))"
   ]
  },
  {
   "cell_type": "code",
   "execution_count": null,
   "metadata": {},
   "outputs": [],
   "source": [
    "lstm_model.plot_history()"
   ]
  },
  {
   "cell_type": "code",
   "execution_count": null,
   "metadata": {},
   "outputs": [],
   "source": [
    "pd.Series(val_Y.flatten()).plot()\n",
    "pd.Series(lstm_model.predict(val_X).flatten()).plot()"
   ]
  },
  {
   "cell_type": "code",
   "execution_count": null,
   "metadata": {},
   "outputs": [],
   "source": [
    "print(np.mean(np.square(0 - val_Y)))\n",
    "lstm_model.mse(val_X, val_Y)"
   ]
  },
  {
   "cell_type": "code",
   "execution_count": null,
   "metadata": {},
   "outputs": [],
   "source": [
    "print(np.mean(np.square(0 - val_Y)))\n",
    "lstm_model.mse(val_X, val_Y)"
   ]
  },
  {
   "cell_type": "code",
   "execution_count": null,
   "metadata": {},
   "outputs": [],
   "source": []
  },
  {
   "cell_type": "code",
   "execution_count": null,
   "metadata": {},
   "outputs": [],
   "source": []
  },
  {
   "cell_type": "code",
   "execution_count": null,
   "metadata": {},
   "outputs": [],
   "source": [
    "convlstm_model = ConvLSTMModel(n_input=10, n_output=1, seed=987654,\n",
    "                               conv_layer_properties={'filters': 30,\n",
    "                                                      'kernel_size': 3,\n",
    "                                                      'padding': 'valid',\n",
    "                                                      'l2': 300.0, 'dropout': 0.1},\n",
    "                               lstm_layer_properties={'units': 50,\n",
    "                                                      'return_sequences': True,\n",
    "                                                      'kernel_dropout': 0.3,\n",
    "                                                      'recurrent_l2': 600.0},\n",
    "                               output_layer_properties={'dropout': 0.1})\n",
    "\n",
    "convlstm_model.build_model() #loss=signed_mse(0.0))\n",
    "convlstm_model.summary()"
   ]
  },
  {
   "cell_type": "code",
   "execution_count": null,
   "metadata": {},
   "outputs": [],
   "source": [
    "convlstm_factory = ConvLSTMModelFactory(seed=987654,\n",
    "                                        fixed_model_params={'n_input': 10,\n",
    "                                                            'n_output': 1},\n",
    "                                        fixed_conv_params={'filters': 30,\n",
    "                                                           'kernel_size': 3},\n",
    "                                        fixed_lstm_params={'units': 50})"
   ]
  },
  {
   "cell_type": "code",
   "execution_count": null,
   "metadata": {},
   "outputs": [],
   "source": [
    "convlstm_model = convlstm_factory.build_model({'conv_l2': 300.0,\n",
    "                                               'conv_dropout': 0.1,\n",
    "                                               'kernel_dropout': 0.3,\n",
    "                                               'recurrent_l2': 600.0,\n",
    "                                               'output_droput': 0.1})\n",
    "convlstm_model.summary()"
   ]
  },
  {
   "cell_type": "code",
   "execution_count": null,
   "metadata": {},
   "outputs": [],
   "source": [
    "convlstm_model.fit(x=train_X, y=train_Y, validation_data=(val_X, val_Y))"
   ]
  },
  {
   "cell_type": "code",
   "execution_count": null,
   "metadata": {},
   "outputs": [],
   "source": [
    "convlstm_model.plot_history()"
   ]
  },
  {
   "cell_type": "code",
   "execution_count": null,
   "metadata": {},
   "outputs": [],
   "source": [
    "pd.Series(val_Y.flatten()).plot()\n",
    "pd.Series(convlstm_model.predict(val_X).flatten()).plot()"
   ]
  },
  {
   "cell_type": "code",
   "execution_count": null,
   "metadata": {},
   "outputs": [],
   "source": [
    "print(np.mean(np.square(0 - val_Y)))\n",
    "convlstm_model.mse(val_X, val_Y)"
   ]
  },
  {
   "cell_type": "code",
   "execution_count": null,
   "metadata": {},
   "outputs": [],
   "source": [
    "print(np.mean(np.square(0 - val_Y)))\n",
    "convlstm_model.mse(val_X, val_Y)"
   ]
  },
  {
   "cell_type": "code",
   "execution_count": null,
   "metadata": {},
   "outputs": [],
   "source": []
  },
  {
   "cell_type": "code",
   "execution_count": null,
   "metadata": {},
   "outputs": [],
   "source": [
    "clstm_model = tsCLSTM(n_input=10, n_output=1,\n",
    "                      cnn_properties={'filters': 30,\n",
    "                                      'kernel_size': 3,\n",
    "                                      'same_padding': False,\n",
    "                                      'l1': 0.0, 'l2': 300.0,\n",
    "                                      'dropout': 0.1,\n",
    "                                      'pool_size': 1},\n",
    "                      lstm_properties={'units': 50,\n",
    "                                       'return_sequences': True,\n",
    "                                       'kernel_dropout': 0.3, 'recurrent_dropout': 0.0,\n",
    "                                       'kernel_l1': 0.0, 'kernel_l2': 0.0,\n",
    "                                       'recurrent_l1': 0.0, 'recurrent_l2': 600.0},\n",
    "                      dropout=0.1)\n",
    "\n",
    "clstm_model.summary()\n",
    "clstm_optimizer=tf.keras.optimizers.Adam()\n",
    "clstm_model.compile(optimizer=lstm_optimizer, loss='mse')"
   ]
  },
  {
   "cell_type": "code",
   "execution_count": null,
   "metadata": {},
   "outputs": [],
   "source": [
    "np.random.seed(clstm_model.seed)\n",
    "tf.random.set_seed(clstm_model.seed)\n",
    "clstm_hist = clstm_model.fit(x=train_X, y=train_Y, validation_data=(val_X, val_Y), \n",
    "                             batch_size=200, epochs=100, verbose=0)"
   ]
  },
  {
   "cell_type": "code",
   "execution_count": null,
   "metadata": {},
   "outputs": [],
   "source": [
    "pd.DataFrame.from_dict(clstm_hist.history).plot()"
   ]
  },
  {
   "cell_type": "code",
   "execution_count": null,
   "metadata": {},
   "outputs": [],
   "source": [
    "pd.Series(val_Y.flatten()).plot()\n",
    "pd.Series(clstm_model.predict(val_X).flatten()).plot()"
   ]
  },
  {
   "cell_type": "code",
   "execution_count": null,
   "metadata": {},
   "outputs": [],
   "source": [
    "print(np.mean(np.square(0 - val_Y)))\n",
    "np.mean(np.square(clstm_model.predict(val_X) - val_Y))"
   ]
  },
  {
   "cell_type": "code",
   "execution_count": null,
   "metadata": {},
   "outputs": [],
   "source": []
  },
  {
   "cell_type": "code",
   "execution_count": null,
   "metadata": {},
   "outputs": [],
   "source": []
  },
  {
   "cell_type": "code",
   "execution_count": null,
   "metadata": {},
   "outputs": [],
   "source": [
    "tf.keras.backend.clear_session()\n",
    "\n",
    "window = 10\n",
    "cr_seed = 987654\n",
    "cr_dropout = 0.0\n",
    "\n",
    "cr_initializer = tf.keras.initializers.glorot_uniform(seed=lstm_seed)\n",
    "\n",
    "cr_model = tf.keras.Sequential()\n",
    "cr_model.add(tf.keras.layers.Input(shape=(window,)))\n",
    "cr_model.add(tf.keras.layers.Reshape((window, 1)))\n",
    "cr_model.add(tf.keras.layers.Dropout(0.1, seed=cr_seed))\n",
    "cr_model.add(tf.keras.layers.Conv1D(filters=30, kernel_size=3, # padding='same',\n",
    "                                     kernel_regularizer=tf.keras.regularizers.L1L2(l2=300.0),\n",
    "                                     kernel_initializer=cr_initializer))\n",
    "#cr_model.add(tf.keras.layers.AveragePooling1D(pool_size=2))\n",
    "cr_model.add(tf.keras.layers.LSTM(units=50, dropout=0.3, recurrent_dropout=0.0,\n",
    "                                  return_sequences=True,\n",
    "                                  recurrent_regularizer=tf.keras.regularizers.L1L2(l1=0.0, l2=600.0),\n",
    "                                  kernel_regularizer=tf.keras.regularizers.L1L2(l1=0.0, l2=0.0),\n",
    "                                  kernel_initializer=cr_initializer))\n",
    "cr_model.add(tf.keras.layers.Flatten())\n",
    "cr_model.add(tf.keras.layers.Dropout(0.1, seed=cr_seed))\n",
    "cr_model.add(tf.keras.layers.Dense(units=1, activation='linear',\n",
    "                                   kernel_regularizer=tf.keras.regularizers.L1L2(l1=0.0, l2=0.0),\n",
    "                                   kernel_initializer=cr_initializer))\n",
    "cr_model.summary()\n",
    "cr_optimizer = tf.keras.optimizers.Adam()\n",
    "cr_model.compile(optimizer=cr_optimizer, loss=signed_mse(0.0))"
   ]
  },
  {
   "cell_type": "code",
   "execution_count": null,
   "metadata": {},
   "outputs": [],
   "source": [
    "np.random.seed(cr_seed)\n",
    "tf.random.set_seed(cr_seed)\n",
    "cr_hist = cr_model.fit(x=train_X, y=train_Y, validation_data=(val_X, val_Y), \n",
    "                       batch_size=200, epochs=100, verbose=0)"
   ]
  },
  {
   "cell_type": "code",
   "execution_count": null,
   "metadata": {},
   "outputs": [],
   "source": [
    "pd.DataFrame.from_dict(cr_hist.history).plot()"
   ]
  },
  {
   "cell_type": "code",
   "execution_count": null,
   "metadata": {},
   "outputs": [],
   "source": [
    "pd.Series(val_Y.flatten()).plot()\n",
    "pd.Series(cr_model.predict(val_X).flatten()).plot()"
   ]
  },
  {
   "cell_type": "code",
   "execution_count": null,
   "metadata": {},
   "outputs": [],
   "source": [
    "print(np.mean(np.square(0 - val_Y)))\n",
    "np.mean(np.square(cr_model.predict(val_X) - val_Y))"
   ]
  },
  {
   "cell_type": "code",
   "execution_count": null,
   "metadata": {},
   "outputs": [],
   "source": []
  },
  {
   "cell_type": "code",
   "execution_count": null,
   "metadata": {},
   "outputs": [],
   "source": []
  },
  {
   "cell_type": "code",
   "execution_count": null,
   "metadata": {},
   "outputs": [],
   "source": []
  },
  {
   "cell_type": "code",
   "execution_count": null,
   "metadata": {},
   "outputs": [],
   "source": []
  },
  {
   "cell_type": "code",
   "execution_count": null,
   "metadata": {},
   "outputs": [],
   "source": []
  },
  {
   "cell_type": "code",
   "execution_count": null,
   "metadata": {},
   "outputs": [],
   "source": [
    "ts = pd.Series(np.random.laplace(0, 1, 99), index=pd.date_range('2019-02-13', periods=99, freq='b'))"
   ]
  },
  {
   "cell_type": "code",
   "execution_count": null,
   "metadata": {},
   "outputs": [],
   "source": [
    "ts.plot(kind='kde')"
   ]
  },
  {
   "cell_type": "code",
   "execution_count": null,
   "metadata": {},
   "outputs": [],
   "source": [
    "sc = StandardScaler1D()\n",
    "sc.fit(ts.values)\n",
    "pd.Series(sc.transform(ts.values)).plot(kind='kde')\n",
    "print(sc.fit_transform(ts.values)[:10])\n",
    "print(sc.inverse_transform(ts.values[:10]))"
   ]
  },
  {
   "cell_type": "code",
   "execution_count": null,
   "metadata": {},
   "outputs": [],
   "source": [
    "sc = StandardScaler1D()\n",
    "sc.fit(ts)\n",
    "sc.transform(ts).plot(kind='kde')\n",
    "print(sc.fit_transform(ts)[:10])\n",
    "print(sc.inverse_transform(ts.iloc[:10]))"
   ]
  },
  {
   "cell_type": "code",
   "execution_count": null,
   "metadata": {},
   "outputs": [],
   "source": [
    "bc = BoxCoxScaler()\n",
    "bc.fit(ts)\n",
    "bc.transform(ts).plot(kind='kde')\n",
    "print(bc.fit_transform(ts)[:10])\n",
    "print(bc.inverse_transform(ts.iloc[:10]))"
   ]
  },
  {
   "cell_type": "code",
   "execution_count": null,
   "metadata": {},
   "outputs": [],
   "source": [
    "np.zeros((10, 1)).reshape((-1, ))"
   ]
  },
  {
   "cell_type": "code",
   "execution_count": null,
   "metadata": {},
   "outputs": [],
   "source": [
    "tf.keras.backend.clear_session()\n",
    "\n",
    "window = 100\n",
    "cnn_seed = 987654\n",
    "cnn_dropout = 0.6\n",
    "cnn_l2 = 700.0\n",
    "\n",
    "cnn_regularizer = tf.keras.regularizers.L1L2(l2=cnn_l2)\n",
    "cnn_initializer = tf.keras.initializers.glorot_uniform(seed=cnn_seed)\n",
    "cnn_optimizer = tf.keras.optimizers.Adam()\n",
    "\n",
    "cnn_model = tf.keras.Sequential()\n",
    "#cnn_model.add(tf.keras.layers.InputLayer(input_shape=(10,)))\n",
    "cnn_model.add(tf.keras.layers.Input(shape=(window,)))\n",
    "cnn_model.add(tf.keras.layers.Reshape((window, 1)))\n",
    "cnn_model.add(tf.keras.layers.Dropout(cnn_dropout))\n",
    "cnn_model.add(tf.keras.layers.Conv1D(filters=40, kernel_size=3, padding='same', activation='relu',\n",
    "                                     kernel_regularizer=cnn_regularizer,\n",
    "                                     kernel_initializer=cnn_initializer))\n",
    "cnn_model.add(tf.keras.layers.AveragePooling1D(pool_size=2))\n",
    "#cnn_model.add(tf.keras.layers.Dropout(cnn_dropout))\n",
    "#cnn_model.add(tf.keras.layers.Conv1D(filters=10, kernel_size=3, padding='same', activation='relu',\n",
    "#                                     kernel_regularizer=cnn_regularizer,\n",
    "#                                     kernel_initializer=cnn_initializer))\n",
    "#cnn_model.add(tf.keras.layers.AveragePooling1D(pool_size=2))\n",
    "cnn_model.add(tf.keras.layers.Flatten())\n",
    "cnn_model.add(tf.keras.layers.Dropout(cnn_dropout))\n",
    "cnn_model.add(tf.keras.layers.Dense(units=1, activation='linear',\n",
    "                                    kernel_regularizer=cnn_regularizer,\n",
    "                                    kernel_initializer=cnn_initializer))\n",
    "cnn_model.summary()"
   ]
  }
 ],
 "metadata": {
  "kernelspec": {
   "display_name": "timeseries",
   "language": "python",
   "name": "timeseries"
  },
  "language_info": {
   "codemirror_mode": {
    "name": "ipython",
    "version": 3
   },
   "file_extension": ".py",
   "mimetype": "text/x-python",
   "name": "python",
   "nbconvert_exporter": "python",
   "pygments_lexer": "ipython3",
   "version": "3.7.6"
  }
 },
 "nbformat": 4,
 "nbformat_minor": 4
}
